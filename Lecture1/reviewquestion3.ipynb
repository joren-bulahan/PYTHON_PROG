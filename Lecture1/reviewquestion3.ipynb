{
 "cells": [
  {
   "cell_type": "markdown",
   "id": "bb8e89fc-82a3-4b93-aebc-b1f506e1bc23",
   "metadata": {},
   "source": [
    "Review Questions 3"
   ]
  },
  {
   "cell_type": "code",
   "execution_count": 4,
   "id": "84b46f27-ce28-4d8d-9846-309ab1643a96",
   "metadata": {},
   "outputs": [
    {
     "name": "stdin",
     "output_type": "stream",
     "text": [
      "Enter a word:  ads\n"
     ]
    },
    {
     "name": "stdout",
     "output_type": "stream",
     "text": [
      "ads\n"
     ]
    },
    {
     "name": "stdin",
     "output_type": "stream",
     "text": [
      "Enter a word:  DSDS\n"
     ]
    },
    {
     "name": "stdout",
     "output_type": "stream",
     "text": [
      "dsds\n"
     ]
    },
    {
     "name": "stdin",
     "output_type": "stream",
     "text": [
      "Enter a word:  ASDAS\n"
     ]
    },
    {
     "name": "stdout",
     "output_type": "stream",
     "text": [
      "5\n"
     ]
    }
   ],
   "source": [
    "first = (input(\"Enter a word: \"))\n",
    "print(first)\n",
    "\n",
    "second = (input(\"Enter a word: \"))\n",
    "print(second.lower())\n",
    "\n",
    "third = (input(\"Enter a word: \"))\n",
    "print(len(third))"
   ]
  },
  {
   "cell_type": "code",
   "execution_count": null,
   "id": "023ed04d-b7f4-44f0-82d9-d445bfc5a291",
   "metadata": {},
   "outputs": [],
   "source": []
  }
 ],
 "metadata": {
  "kernelspec": {
   "display_name": "Python [conda env:myenv]",
   "language": "python",
   "name": "conda-env-myenv-py"
  },
  "language_info": {
   "codemirror_mode": {
    "name": "ipython",
    "version": 3
   },
   "file_extension": ".py",
   "mimetype": "text/x-python",
   "name": "python",
   "nbconvert_exporter": "python",
   "pygments_lexer": "ipython3",
   "version": "3.10.18"
  }
 },
 "nbformat": 4,
 "nbformat_minor": 5
}
