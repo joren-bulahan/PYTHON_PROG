{
 "cells": [
  {
   "cell_type": "markdown",
   "id": "03a0bd86-bcd0-40d5-a567-75eed0b25930",
   "metadata": {},
   "source": [
    "Review Questions 6"
   ]
  },
  {
   "cell_type": "code",
   "execution_count": 19,
   "id": "3decb723-cd18-4537-abf7-847eb9325eb8",
   "metadata": {},
   "outputs": [
    {
     "name": "stdin",
     "output_type": "stream",
     "text": [
      "Enter a word:  zooren\n",
      "Enter a word you like to find:  n\n"
     ]
    },
    {
     "name": "stdout",
     "output_type": "stream",
     "text": [
      "5\n"
     ]
    }
   ],
   "source": [
    "first = \"AAA\"\n",
    "first.find(\"a\")\n",
    "\n",
    "second =\"Somebody said something to Samantha.\"\n",
    "second.replace(\"s\",\"y\")\n",
    "\n",
    "third = (input(\"Enter a word: \"))\n",
    "fourth = (input(\"Enter a word you like to find: \"))\n",
    "fifth = third.find(fourth)\n",
    "print(fifth)\n"
   ]
  },
  {
   "cell_type": "code",
   "execution_count": null,
   "id": "e7307a6f-986b-41ee-ac10-37fae67b1f05",
   "metadata": {},
   "outputs": [],
   "source": []
  }
 ],
 "metadata": {
  "kernelspec": {
   "display_name": "Python [conda env:myenv]",
   "language": "python",
   "name": "conda-env-myenv-py"
  },
  "language_info": {
   "codemirror_mode": {
    "name": "ipython",
    "version": 3
   },
   "file_extension": ".py",
   "mimetype": "text/x-python",
   "name": "python",
   "nbconvert_exporter": "python",
   "pygments_lexer": "ipython3",
   "version": "3.10.18"
  }
 },
 "nbformat": 4,
 "nbformat_minor": 5
}
