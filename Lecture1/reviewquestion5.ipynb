{
 "cells": [
  {
   "cell_type": "code",
   "execution_count": 7,
   "id": "b42cf17e-b66f-4984-85e9-0f77ee6e588e",
   "metadata": {},
   "outputs": [
    {
     "name": "stdin",
     "output_type": "stream",
     "text": [
      "Enter the first number:  12\n",
      "Enter the second number:  12\n"
     ]
    },
    {
     "name": "stdout",
     "output_type": "stream",
     "text": [
      "the total is:  144\n"
     ]
    },
    {
     "name": "stdin",
     "output_type": "stream",
     "text": [
      "Enter the first number:  12\n",
      "Enter the second number:  31\n"
     ]
    },
    {
     "name": "stdout",
     "output_type": "stream",
     "text": [
      "The total is:  372.0\n",
      "daben 69\n"
     ]
    },
    {
     "name": "stdin",
     "output_type": "stream",
     "text": [
      "Enter a number:  5\n",
      "Enter a number:  5\n"
     ]
    },
    {
     "name": "stdout",
     "output_type": "stream",
     "text": [
      "The total is:  10\n"
     ]
    }
   ],
   "source": [
    "first = int(input(\"Enter the first number: \"))\n",
    "second = int(input(\"Enter the second number: \"))\n",
    "total = first * second\n",
    "print(\"the total is: \", total )\n",
    "\n",
    "third = float(input(\"Enter the first number: \"))\n",
    "fourth = float(input(\"Enter the second number: \"))\n",
    "total = third * fourth\n",
    "print(\"The total is: \", total)\n",
    "\n",
    "fifth = \"daben\"\n",
    "sixth = str(69)\n",
    "seventh = fifth+ \" \" +sixth\n",
    "print(seventh)\n",
    "\n",
    "eighth = int(input(\"Enter a number: \"))\n",
    "ninth = int(input(\"Enter a number: \"))\n",
    "total = eighth + ninth\n",
    "print(\"The total is: \", total)"
   ]
  },
  {
   "cell_type": "code",
   "execution_count": null,
   "id": "5949053b-c278-4014-8be7-5038a5b7dfc8",
   "metadata": {},
   "outputs": [],
   "source": []
  }
 ],
 "metadata": {
  "kernelspec": {
   "display_name": "Python [conda env:myenv]",
   "language": "python",
   "name": "conda-env-myenv-py"
  },
  "language_info": {
   "codemirror_mode": {
    "name": "ipython",
    "version": 3
   },
   "file_extension": ".py",
   "mimetype": "text/x-python",
   "name": "python",
   "nbconvert_exporter": "python",
   "pygments_lexer": "ipython3",
   "version": "3.10.18"
  }
 },
 "nbformat": 4,
 "nbformat_minor": 5
}
