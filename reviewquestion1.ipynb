{
 "cells": [
  {
   "cell_type": "markdown",
   "id": "da05a190-05db-4144-b9bf-8683ffee25b7",
   "metadata": {},
   "source": [
    "Review Question 1"
   ]
  },
  {
   "cell_type": "code",
   "execution_count": 3,
   "id": "751cc862-519f-4278-98c6-1dfc7c4d99e8",
   "metadata": {},
   "outputs": [
    {
     "name": "stdout",
     "output_type": "stream",
     "text": [
      "the length: 8\n",
      "DeMakinaDeMakalaya\n",
      "DeMakina DeMakalaya\n",
      "fox\n"
     ]
    }
   ],
   "source": [
    "Daven = 'DeMakina'\n",
    "print(\"the length:\", + len(Daven))\n",
    "\n",
    "Daven = 'DeMakina'\n",
    "Mark = 'DeMakalaya'\n",
    "result = Daven + Mark\n",
    "print(result)\n",
    "\n",
    "Daven = 'DeMakina'\n",
    "Mark = 'DeMakalaya'\n",
    "result = Daven + \" \" + Mark\n",
    "print(result)\n",
    "\n",
    "Story = \"The quick brown fox jumped over the lazy dog. #1234567890!\"\n",
    "Slicing = Story[16:19]\n",
    "print(Slicing)\n"
   ]
  },
  {
   "cell_type": "code",
   "execution_count": null,
   "id": "ed6d5b05-fb9e-4d94-a49d-e8d7a414fd74",
   "metadata": {},
   "outputs": [],
   "source": []
  }
 ],
 "metadata": {
  "kernelspec": {
   "display_name": "Python [conda env:myenv]",
   "language": "python",
   "name": "conda-env-myenv-py"
  },
  "language_info": {
   "codemirror_mode": {
    "name": "ipython",
    "version": 3
   },
   "file_extension": ".py",
   "mimetype": "text/x-python",
   "name": "python",
   "nbconvert_exporter": "python",
   "pygments_lexer": "ipython3",
   "version": "3.10.18"
  }
 },
 "nbformat": 4,
 "nbformat_minor": 5
}
