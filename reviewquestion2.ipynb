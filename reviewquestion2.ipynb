{
 "cells": [
  {
   "cell_type": "markdown",
   "id": "93e556cb-4ed3-4e84-b8e3-d1361616cc31",
   "metadata": {},
   "source": [
    "Review Question 2"
   ]
  },
  {
   "cell_type": "code",
   "execution_count": 1,
   "id": "15b00280-3c2d-4ea7-8143-729c7e2a661f",
   "metadata": {},
   "outputs": [
    {
     "name": "stdout",
     "output_type": "stream",
     "text": [
      "animals\n",
      "badger\n",
      "honey bee\n",
      "honeybadger\n",
      "ANIMALS\n",
      "BADGER\n",
      "HONEY BEE\n",
      "HONEYBADGER\n",
      "Filet Mignon Brisket\n",
      "True True\n"
     ]
    }
   ],
   "source": [
    "daben = [\"Animals\", \"Badger\", \"Honey Bee\", \"Honeybadger\"]\n",
    "for daben in daben:\n",
    "    print(daben.lower())\n",
    "\n",
    "daben = [\"Animals\", \"Badger\", \"Honey Bee\", \"Honeybadger\"]\n",
    "for daben in daben:\n",
    "    print(daben.upper())\n",
    "    \n",
    "string1= \" Filet Mignon\"\n",
    "string2= \"Brisket \" \n",
    "result= string1.lstrip() + \" \" + string2.rstrip()\n",
    "print(result)\n",
    "\n",
    "string1 = \"Becomes\"\n",
    "string2 = \"becomes\"\n",
    "result = str(string1.lower().startswith(\"be\")) + \" \" + str(string2.lower().startswith(\"be\"))\n",
    "print(result)\n",
    "\n",
    "\n"
   ]
  },
  {
   "cell_type": "code",
   "execution_count": null,
   "id": "fd873766-4da0-4dcc-a3da-0f884cf86355",
   "metadata": {},
   "outputs": [],
   "source": []
  }
 ],
 "metadata": {
  "kernelspec": {
   "display_name": "Python [conda env:myenv]",
   "language": "python",
   "name": "conda-env-myenv-py"
  },
  "language_info": {
   "codemirror_mode": {
    "name": "ipython",
    "version": 3
   },
   "file_extension": ".py",
   "mimetype": "text/x-python",
   "name": "python",
   "nbconvert_exporter": "python",
   "pygments_lexer": "ipython3",
   "version": "3.10.18"
  }
 },
 "nbformat": 4,
 "nbformat_minor": 5
}
