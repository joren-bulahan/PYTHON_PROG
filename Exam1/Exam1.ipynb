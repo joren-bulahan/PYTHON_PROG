{
 "cells": [
  {
   "cell_type": "markdown",
   "id": "eaa86ede-94f1-4e85-8dfa-60af6f16f63b",
   "metadata": {},
   "source": [
    "# 1st Long Exam 10/09/2025"
   ]
  },
  {
   "cell_type": "markdown",
   "id": "ed3da8a4-eddc-4ef5-b278-390eb4c0b6d5",
   "metadata": {},
   "source": [
    "# Joren Jay L. Bulahan ID:23815772"
   ]
  },
  {
   "cell_type": "code",
   "execution_count": 1,
   "id": "4dc56bf1-e0a4-44e6-a776-e01266131c93",
   "metadata": {},
   "outputs": [
    {
     "name": "stdin",
     "output_type": "stream",
     "text": [
      "Enter your name:  joren\n"
     ]
    },
    {
     "name": "stdout",
     "output_type": "stream",
     "text": [
      "Hello joren\n"
     ]
    }
   ],
   "source": [
    "#1\n",
    "first = input(\"Enter your name: \")\n",
    "print(f\"Hello {first}\")"
   ]
  },
  {
   "cell_type": "code",
   "execution_count": 2,
   "id": "5476660b-39f9-40ed-bdd4-7c35ba3c85a3",
   "metadata": {},
   "outputs": [
    {
     "name": "stdin",
     "output_type": "stream",
     "text": [
      "Enter a integer:  2\n"
     ]
    },
    {
     "name": "stdout",
     "output_type": "stream",
     "text": [
      "3.0\n"
     ]
    }
   ],
   "source": [
    "#2\n",
    "first = int(input(\"Enter a integer: \"))\n",
    "sum = first * (first + 1) / 2\n",
    "print(sum)"
   ]
  },
  {
   "cell_type": "code",
   "execution_count": 3,
   "id": "0f926c10-2e36-404d-87fd-428e1176380a",
   "metadata": {},
   "outputs": [
    {
     "name": "stdin",
     "output_type": "stream",
     "text": [
      "Enter a letter from the alphabet:  a\n"
     ]
    },
    {
     "name": "stdout",
     "output_type": "stream",
     "text": [
      "The letter you entered is a vowel\n"
     ]
    }
   ],
   "source": [
    "#3\n",
    "first = \"y\"\n",
    "second = [\"a\",\"e\",\"i\",\"o\",\"u\"]\n",
    "third = input(\"Enter a letter from the alphabet: \")\n",
    "\n",
    "if third in second:\n",
    "      print(\"The letter you entered is a vowel\")\n",
    "elif third == first:\n",
    "    print(\"Sometimes 'y' is a vowel or a consonant\")\n",
    "else:\n",
    "    print(\"The letter you entered is a consonant\")"
   ]
  },
  {
   "cell_type": "code",
   "execution_count": 4,
   "id": "896efb99-ece2-40b0-9e98-fa1c34f5aca4",
   "metadata": {},
   "outputs": [
    {
     "ename": "SyntaxError",
     "evalue": "invalid syntax (1804772382.py, line 4)",
     "output_type": "error",
     "traceback": [
      "\u001b[1;36m  Cell \u001b[1;32mIn[4], line 4\u001b[1;36m\u001b[0m\n\u001b[1;33m    return ((a**2) + (b**2)) 0.5\u001b[0m\n\u001b[1;37m                             ^\u001b[0m\n\u001b[1;31mSyntaxError\u001b[0m\u001b[1;31m:\u001b[0m invalid syntax\n"
     ]
    }
   ],
   "source": [
    "#5\n",
    "first = float(input(\"Enter a lenght of a shortert side of a triangle: \"))\n",
    "def lenght(first):\n",
    "    return ((a**2) + (b**2)) 0.5\n",
    "print(f\"The result is{lenght()}\")"
   ]
  },
  {
   "cell_type": "code",
   "execution_count": null,
   "id": "182211b4-ad3d-480a-96ef-4318e3e5b2de",
   "metadata": {},
   "outputs": [],
   "source": []
  }
 ],
 "metadata": {
  "kernelspec": {
   "display_name": "Python [conda env:myenv]",
   "language": "python",
   "name": "conda-env-myenv-py"
  },
  "language_info": {
   "codemirror_mode": {
    "name": "ipython",
    "version": 3
   },
   "file_extension": ".py",
   "mimetype": "text/x-python",
   "name": "python",
   "nbconvert_exporter": "python",
   "pygments_lexer": "ipython3",
   "version": "3.10.18"
  }
 },
 "nbformat": 4,
 "nbformat_minor": 5
}
