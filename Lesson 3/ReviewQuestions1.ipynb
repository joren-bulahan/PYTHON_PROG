{
 "cells": [
  {
   "cell_type": "markdown",
   "id": "1038e728-a97b-433b-bef2-0917878ec3c2",
   "metadata": {},
   "source": [
    "# Review Questions 1"
   ]
  },
  {
   "cell_type": "code",
   "execution_count": 1,
   "id": "8dc6030e-3f64-46c7-95c6-a18f712bc897",
   "metadata": {},
   "outputs": [
    {
     "name": "stdout",
     "output_type": "stream",
     "text": [
      "1\n",
      "8\n",
      "27\n"
     ]
    }
   ],
   "source": [
    "def cube(number):\n",
    "    return number ** 3\n",
    "print(cube(1))\n",
    "print(cube(2))\n",
    "print(cube(3))\n",
    "    "
   ]
  },
  {
   "cell_type": "code",
   "execution_count": 13,
   "id": "af22ee81-6ef2-4e46-a75e-9d762956a8da",
   "metadata": {},
   "outputs": [
    {
     "name": "stdout",
     "output_type": "stream",
     "text": [
      "Hello Zooren\n",
      "Hello Mark D Pinili\n"
     ]
    }
   ],
   "source": [
    "def greet(name):\n",
    "    return name\n",
    "print(\"Hello \" + greet(\"Zooren\"))\n",
    "print(\"Hello \" + greet(\"Mark D Pinili\"))"
   ]
  },
  {
   "cell_type": "markdown",
   "id": "289a3dc9-739a-40e0-956d-0945ab164ca2",
   "metadata": {},
   "source": [
    "# Challenge 1"
   ]
  },
  {
   "cell_type": "code",
   "execution_count": 8,
   "id": "18b32c86-6077-403b-9f2f-172ab3b97d36",
   "metadata": {},
   "outputs": [
    {
     "name": "stdin",
     "output_type": "stream",
     "text": [
      "Enter a temperature in degrees F:  72\n"
     ]
    },
    {
     "name": "stdout",
     "output_type": "stream",
     "text": [
      "72.0 degrees F = 22.22 degrees C\n"
     ]
    },
    {
     "name": "stdin",
     "output_type": "stream",
     "text": [
      "Enter a temperature in degrees C:  52\n"
     ]
    },
    {
     "name": "stdout",
     "output_type": "stream",
     "text": [
      "52.0 degrees C = 125.60 degrees F\n"
     ]
    }
   ],
   "source": [
    "def cel_to_far(cel):\n",
    "    return (cel * 9/5) + 32\n",
    "def far_to_cel(far):\n",
    "    return (far - 32) * 5/9\n",
    "cel = float(input(\"Enter a temperature in degrees F: \"))\n",
    "print(f\"{cel} degrees F = {far_to_cel(cel):.2f} degrees C\")\n",
    "far = float(input(\"Enter a temperature in degrees C: \"))\n",
    "print(f\"{far} degrees C = {cel_to_far(far):.2f} degrees F\")   \n",
    "    "
   ]
  },
  {
   "cell_type": "code",
   "execution_count": null,
   "id": "182766fc-6698-4178-a4e8-6f370dad3702",
   "metadata": {},
   "outputs": [],
   "source": []
  }
 ],
 "metadata": {
  "kernelspec": {
   "display_name": "Python 3 (ipykernel)",
   "language": "python",
   "name": "python3"
  },
  "language_info": {
   "codemirror_mode": {
    "name": "ipython",
    "version": 3
   },
   "file_extension": ".py",
   "mimetype": "text/x-python",
   "name": "python",
   "nbconvert_exporter": "python",
   "pygments_lexer": "ipython3",
   "version": "3.13.5"
  }
 },
 "nbformat": 4,
 "nbformat_minor": 5
}
