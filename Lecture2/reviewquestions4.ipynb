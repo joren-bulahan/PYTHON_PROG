{
 "cells": [
  {
   "cell_type": "markdown",
   "id": "b2114f94-e234-4d30-b0d7-ea1c2e2e6f51",
   "metadata": {},
   "source": [
    "Review Questions 4"
   ]
  },
  {
   "cell_type": "code",
   "execution_count": 5,
   "id": "64e9eb84-bd58-4233-a44c-a45e12e9f145",
   "metadata": {},
   "outputs": [
    {
     "name": "stdin",
     "output_type": "stream",
     "text": [
      "Enter a number:  1.5\n",
      "Enter another number:  .5\n"
     ]
    },
    {
     "name": "stdout",
     "output_type": "stream",
     "text": [
      "The difference between 1.5 and .5 is an integer? True\n"
     ]
    }
   ],
   "source": [
    "first = input(\"Enter a number: \")\n",
    "second = input(\"Enter another number: \")\n",
    "def is_integer(first, second):\n",
    "    try:\n",
    "        result = float(first) - float(second)\n",
    "        return result.is_integer()\n",
    "    except ValueError:\n",
    "        return false\n",
    "print(\"The difference between\", first, \"and\", second, \"is an integer?\", is_integer(first, second)\n",
    ") "
   ]
  },
  {
   "cell_type": "code",
   "execution_count": 6,
   "id": "ac13d23c-d859-4b76-a362-5209901578e7",
   "metadata": {},
   "outputs": [
    {
     "name": "stdin",
     "output_type": "stream",
     "text": [
      "Enter a number:  1.5\n",
      "Enter another number:  1.0\n"
     ]
    },
    {
     "name": "stdout",
     "output_type": "stream",
     "text": [
      "The difference between 1.5 and 1.0 is an integer? False\n"
     ]
    }
   ],
   "source": [
    "first = input(\"Enter a number: \")\n",
    "second = input(\"Enter another number: \")\n",
    "\n",
    "def is_integer(first, second):\n",
    "    try:\n",
    "        result = float(first) - float(second)\n",
    "        return result.is_integer()\n",
    "    except ValueError:\n",
    "        return false\n",
    "\n",
    "print(\n",
    "    \"The difference between\", first, \"and\", second, \"is an integer?\", is_integer(first, second)\n",
    ") "
   ]
  },
  {
   "cell_type": "code",
   "execution_count": null,
   "id": "ef3175a5-312a-41da-b481-99e412f1ab92",
   "metadata": {},
   "outputs": [],
   "source": []
  }
 ],
 "metadata": {
  "kernelspec": {
   "display_name": "Python [conda env:myenv]",
   "language": "python",
   "name": "conda-env-myenv-py"
  },
  "language_info": {
   "codemirror_mode": {
    "name": "ipython",
    "version": 3
   },
   "file_extension": ".py",
   "mimetype": "text/x-python",
   "name": "python",
   "nbconvert_exporter": "python",
   "pygments_lexer": "ipython3",
   "version": "3.10.18"
  }
 },
 "nbformat": 4,
 "nbformat_minor": 5
}
