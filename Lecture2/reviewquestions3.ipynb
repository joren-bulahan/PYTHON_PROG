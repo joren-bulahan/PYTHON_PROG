{
 "cells": [
  {
   "cell_type": "markdown",
   "id": "707b7296-226a-4d9a-acd5-f6089bc43802",
   "metadata": {},
   "source": [
    "Review Questions 3"
   ]
  },
  {
   "cell_type": "code",
   "execution_count": 10,
   "id": "376b52da-d544-454e-94fd-59b86f38ad5f",
   "metadata": {},
   "outputs": [
    {
     "name": "stdin",
     "output_type": "stream",
     "text": [
      "Enter a number:  5.432\n"
     ]
    },
    {
     "name": "stdout",
     "output_type": "stream",
     "text": [
      "5 rounded to 2 decimal places is 5\n"
     ]
    }
   ],
   "source": [
    "first = round(float(input(\"Enter a number: \")))\n",
    "print(first, \"rounded to 2 decimal places is\", round(float(first)))\n"
   ]
  },
  {
   "cell_type": "code",
   "execution_count": 13,
   "id": "dd4e5320-3282-4186-93b8-0d3404d89ead",
   "metadata": {},
   "outputs": [
    {
     "name": "stdin",
     "output_type": "stream",
     "text": [
      "Enter a number:  -10\n"
     ]
    },
    {
     "name": "stdout",
     "output_type": "stream",
     "text": [
      "The absolute value of -10 is 10.0\n"
     ]
    }
   ],
   "source": [
    "first = input(\"Enter a number: \")\n",
    "\n",
    "print(\"The absolute value of\", first, \"is\", abs(float(first)))"
   ]
  },
  {
   "cell_type": "code",
   "execution_count": null,
   "id": "a3e0607a-f067-4351-b943-47d6014837f2",
   "metadata": {},
   "outputs": [],
   "source": []
  }
 ],
 "metadata": {
  "kernelspec": {
   "display_name": "Python [conda env:myenv]",
   "language": "python",
   "name": "conda-env-myenv-py"
  },
  "language_info": {
   "codemirror_mode": {
    "name": "ipython",
    "version": 3
   },
   "file_extension": ".py",
   "mimetype": "text/x-python",
   "name": "python",
   "nbconvert_exporter": "python",
   "pygments_lexer": "ipython3",
   "version": "3.10.18"
  }
 },
 "nbformat": 4,
 "nbformat_minor": 5
}
