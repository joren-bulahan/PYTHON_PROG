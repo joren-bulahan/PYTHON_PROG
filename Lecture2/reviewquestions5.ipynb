{
 "cells": [
  {
   "cell_type": "markdown",
   "id": "845d72c4-1d70-4443-a9d4-a94fc2659d40",
   "metadata": {},
   "source": [
    "Review Questions 5"
   ]
  },
  {
   "cell_type": "code",
   "execution_count": 1,
   "id": "d26ea072-1bdf-4185-95a6-18c3262c02f4",
   "metadata": {},
   "outputs": [
    {
     "name": "stdout",
     "output_type": "stream",
     "text": [
      "The 3 raised to the power of .125 is 1.147\n"
     ]
    }
   ],
   "source": [
    "first = 3 ** .125\n",
    "\n",
    "print(f\"The 3 raised to the power of .125 is {first:.3f}\")"
   ]
  },
  {
   "cell_type": "code",
   "execution_count": 5,
   "id": "e3a12fc4-7cbb-4fe3-8384-b0227f9e7128",
   "metadata": {},
   "outputs": [
    {
     "name": "stdout",
     "output_type": "stream",
     "text": [
      "$150,000.00\n"
     ]
    }
   ],
   "source": [
    "first = 150000\n",
    "\n",
    "print(f\"${first:,.2f}\")"
   ]
  },
  {
   "cell_type": "code",
   "execution_count": 6,
   "id": "31981769-3f4c-4cac-82ae-deb0c1f535e4",
   "metadata": {},
   "outputs": [
    {
     "name": "stdout",
     "output_type": "stream",
     "text": [
      "20%\n"
     ]
    }
   ],
   "source": [
    "first = 2 / 10\n",
    "\n",
    "print(f\"{first:.0%}\")"
   ]
  },
  {
   "cell_type": "code",
   "execution_count": null,
   "id": "0b070c4b-b079-4b5a-90de-b250959ba345",
   "metadata": {},
   "outputs": [],
   "source": []
  }
 ],
 "metadata": {
  "kernelspec": {
   "display_name": "Python [conda env:myenv]",
   "language": "python",
   "name": "conda-env-myenv-py"
  },
  "language_info": {
   "codemirror_mode": {
    "name": "ipython",
    "version": 3
   },
   "file_extension": ".py",
   "mimetype": "text/x-python",
   "name": "python",
   "nbconvert_exporter": "python",
   "pygments_lexer": "ipython3",
   "version": "3.10.18"
  }
 },
 "nbformat": 4,
 "nbformat_minor": 5
}
