{
 "cells": [
  {
   "cell_type": "markdown",
   "id": "ea0fdbdf-da26-4eaa-bc2d-74e8f8e3f9f4",
   "metadata": {},
   "source": [
    "Review Questions 1"
   ]
  },
  {
   "cell_type": "code",
   "execution_count": 3,
   "id": "bac6cf74-e43b-4869-9d24-6a7b0b13735c",
   "metadata": {},
   "outputs": [
    {
     "name": "stdout",
     "output_type": "stream",
     "text": [
      "The first:  25000000\n",
      "The second:  25000000\n"
     ]
    }
   ],
   "source": [
    "first = 25000000\n",
    "second = 25_000_000\n",
    "print(\"The first: \",first)\n",
    "print(\"The second: \",second)"
   ]
  },
  {
   "cell_type": "code",
   "execution_count": 7,
   "id": "9aa68414-bc3f-4942-acb3-603b672a1ef9",
   "metadata": {},
   "outputs": [
    {
     "name": "stdout",
     "output_type": "stream",
     "text": [
      "Print the output:  175000.0\n"
     ]
    }
   ],
   "source": [
    "first = 175000e0\n",
    "print(\"Print the output: \",first)"
   ]
  },
  {
   "cell_type": "code",
   "execution_count": 8,
   "id": "e3861a1d-bf57-492d-8d83-4f6ec67ecba7",
   "metadata": {},
   "outputs": [
    {
     "name": "stdout",
     "output_type": "stream",
     "text": [
      "Print the output:  inf\n"
     ]
    }
   ],
   "source": [
    "first = 2e308\n",
    "print(\"Print the output: \",first)"
   ]
  },
  {
   "cell_type": "code",
   "execution_count": null,
   "id": "96b91a12-2ff2-4de0-87f2-ed1ef7263a01",
   "metadata": {},
   "outputs": [],
   "source": []
  }
 ],
 "metadata": {
  "kernelspec": {
   "display_name": "Python [conda env:myenv]",
   "language": "python",
   "name": "conda-env-myenv-py"
  },
  "language_info": {
   "codemirror_mode": {
    "name": "ipython",
    "version": 3
   },
   "file_extension": ".py",
   "mimetype": "text/x-python",
   "name": "python",
   "nbconvert_exporter": "python",
   "pygments_lexer": "ipython3",
   "version": "3.10.18"
  }
 },
 "nbformat": 4,
 "nbformat_minor": 5
}
