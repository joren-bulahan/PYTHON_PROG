{
 "cells": [
  {
   "cell_type": "markdown",
   "id": "bfa165b4-4f69-484f-9073-e771cf42a2d5",
   "metadata": {},
   "source": [
    "Review Questions 2"
   ]
  },
  {
   "cell_type": "code",
   "execution_count": 5,
   "id": "aad81e03-ac23-46de-9c59-4c1e183dc54f",
   "metadata": {},
   "outputs": [
    {
     "name": "stdin",
     "output_type": "stream",
     "text": [
      "Enter a base:  1.2\n",
      "Enter an exponent:  3\n"
     ]
    },
    {
     "name": "stdout",
     "output_type": "stream",
     "text": [
      "1.2 raised to the power of  3  =  1.7279999999999998\n"
     ]
    }
   ],
   "source": [
    "first = input(\"Enter a base: \")\n",
    "second = input(\"Enter an exponent: \")   \n",
    "total = (float(first)**(float(second)))\n",
    "print(first, \"raised to the power of \", second, \" = \", total)"
   ]
  },
  {
   "cell_type": "code",
   "execution_count": null,
   "id": "15577610-8d9d-4bc6-b0ce-d0285e1f2cc1",
   "metadata": {},
   "outputs": [],
   "source": []
  }
 ],
 "metadata": {
  "kernelspec": {
   "display_name": "Python [conda env:myenv]",
   "language": "python",
   "name": "conda-env-myenv-py"
  },
  "language_info": {
   "codemirror_mode": {
    "name": "ipython",
    "version": 3
   },
   "file_extension": ".py",
   "mimetype": "text/x-python",
   "name": "python",
   "nbconvert_exporter": "python",
   "pygments_lexer": "ipython3",
   "version": "3.10.18"
  }
 },
 "nbformat": 4,
 "nbformat_minor": 5
}
