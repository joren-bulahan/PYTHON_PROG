{
 "cells": [
  {
   "cell_type": "markdown",
   "id": "3867417d-ab47-4d46-bfc4-f49f2df3f25e",
   "metadata": {},
   "source": [
    "# Review Questions 5"
   ]
  },
  {
   "cell_type": "code",
   "execution_count": 7,
   "id": "f333a05e-cb5a-43f5-a5ff-50e33a2a09f4",
   "metadata": {},
   "outputs": [
    {
     "name": "stdin",
     "output_type": "stream",
     "text": [
      "Please enter an integer:  wds\n"
     ]
    },
    {
     "name": "stdout",
     "output_type": "stream",
     "text": [
      "Please enter an integer.\n"
     ]
    },
    {
     "name": "stdin",
     "output_type": "stream",
     "text": [
      "Please enter an integer:  asd\n"
     ]
    },
    {
     "name": "stdout",
     "output_type": "stream",
     "text": [
      "Please enter an integer.\n"
     ]
    },
    {
     "name": "stdin",
     "output_type": "stream",
     "text": [
      "Please enter an integer:  asd\n"
     ]
    },
    {
     "name": "stdout",
     "output_type": "stream",
     "text": [
      "Please enter an integer.\n"
     ]
    },
    {
     "name": "stdin",
     "output_type": "stream",
     "text": [
      "Please enter an integer:  123\n"
     ]
    },
    {
     "name": "stdout",
     "output_type": "stream",
     "text": [
      "You entered the integer: 123\n"
     ]
    }
   ],
   "source": [
    "while True:\n",
    "    try:\n",
    "        uinput = int(input(\"Please enter an integer: \"))\n",
    "        output = print(f\"You entered the integer: {uinput}\")\n",
    "        break\n",
    "    except ValueError:\n",
    "        print(\"Please enter an integer.\")"
   ]
  },
  {
   "cell_type": "code",
   "execution_count": 33,
   "id": "75eaf8e8-5cea-4bf4-8f7d-b9af7928de2f",
   "metadata": {},
   "outputs": [
    {
     "name": "stdin",
     "output_type": "stream",
     "text": [
      "Enter a string or integer:  \n"
     ]
    },
    {
     "name": "stdout",
     "output_type": "stream",
     "text": [
      "Enter a string or integer again.\n"
     ]
    },
    {
     "name": "stdin",
     "output_type": "stream",
     "text": [
      "Enter a string or integer:  sheesh\n",
      "Enter an integer index (0 to 5):  0\n"
     ]
    },
    {
     "name": "stdout",
     "output_type": "stream",
     "text": [
      "The character at index 0 is: s\n"
     ]
    }
   ],
   "source": [
    "while True:\n",
    "    first = input(\"Enter a string or integer: \")\n",
    "    if first.strip():  \n",
    "        break\n",
    "    print(\"Enter a string or integer again.\")\n",
    "\n",
    "while True:\n",
    "    try:\n",
    "        n = int(input(f\"Enter an integer index (0 to {len(first) - 1}): \"))\n",
    "        print(f\"The character at index {n} is: {first[n]}\")\n",
    "        break  \n",
    "    except ValueError:\n",
    "        print(\"That's not an integer\")\n",
    "    except IndexError:\n",
    "        print(\"Index out of range. Try again.\")\n",
    "\n"
   ]
  },
  {
   "cell_type": "code",
   "execution_count": null,
   "id": "7a288ee6-ac45-4ecb-bc46-b528d86b099c",
   "metadata": {},
   "outputs": [],
   "source": []
  }
 ],
 "metadata": {
  "kernelspec": {
   "display_name": "Python [conda env:base] *",
   "language": "python",
   "name": "conda-base-py"
  },
  "language_info": {
   "codemirror_mode": {
    "name": "ipython",
    "version": 3
   },
   "file_extension": ".py",
   "mimetype": "text/x-python",
   "name": "python",
   "nbconvert_exporter": "python",
   "pygments_lexer": "ipython3",
   "version": "3.13.5"
  }
 },
 "nbformat": 4,
 "nbformat_minor": 5
}
