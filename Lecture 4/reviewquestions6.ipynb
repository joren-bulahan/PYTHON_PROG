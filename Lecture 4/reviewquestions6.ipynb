{
 "cells": [
  {
   "cell_type": "markdown",
   "id": "4e001c9e-3b92-46bb-ac1f-5b4fc4d53ef4",
   "metadata": {},
   "source": [
    "# Review Questions 6\n"
   ]
  },
  {
   "cell_type": "code",
   "execution_count": 12,
   "id": "903c4303-e95c-4be2-88e9-b5c373b1e6a7",
   "metadata": {},
   "outputs": [
    {
     "name": "stdout",
     "output_type": "stream",
     "text": [
      "The random integer rolled is:1 \n"
     ]
    }
   ],
   "source": [
    "import random\n",
    "\n",
    "def roll():\n",
    "    return random.randint(1, 6)\n",
    "print(f\"The random integer rolled is:{roll()} \")\n"
   ]
  },
  {
   "cell_type": "code",
   "execution_count": 28,
   "id": "3ec3215a-8229-4583-a8e6-05f281edaed4",
   "metadata": {},
   "outputs": [
    {
     "name": "stdout",
     "output_type": "stream",
     "text": [
      "The average number rolled is: 3.4821\n"
     ]
    }
   ],
   "source": [
    "import random\n",
    "\n",
    "rolls = [] \n",
    "for _ in range(10_000):\n",
    "    r = random.randint(1, 6)\n",
    "    rolls.append(r)\n",
    "total_r = sum(rolls) / len(rolls)\n",
    "print(f\"The average number rolled is: {total_r}\")\n"
   ]
  }
 ],
 "metadata": {
  "kernelspec": {
   "display_name": "Python [conda env:base] *",
   "language": "python",
   "name": "conda-base-py"
  },
  "language_info": {
   "codemirror_mode": {
    "name": "ipython",
    "version": 3
   },
   "file_extension": ".py",
   "mimetype": "text/x-python",
   "name": "python",
   "nbconvert_exporter": "python",
   "pygments_lexer": "ipython3",
   "version": "3.13.5"
  }
 },
 "nbformat": 4,
 "nbformat_minor": 5
}
