{
 "cells": [
  {
   "cell_type": "markdown",
   "id": "7cad1fbf-e306-42f9-a9cf-6d9efff54188",
   "metadata": {},
   "source": [
    "# Review Questions 2"
   ]
  },
  {
   "cell_type": "code",
   "execution_count": 1,
   "id": "98af2f5f-8f19-4893-9ca7-0b72f270be27",
   "metadata": {},
   "outputs": [
    {
     "name": "stdout",
     "output_type": "stream",
     "text": [
      "False\n",
      "False\n",
      "True\n",
      "False\n"
     ]
    }
   ],
   "source": [
    "print((1 <= 1) and (1 != 1))\n",
    "print(not(1 != 2))\n",
    "print((\"good\" != \"bad\") or False)\n",
    "print((\"good\" != \"Good\") and not (1 == 1))"
   ]
  },
  {
   "cell_type": "code",
   "execution_count": 7,
   "id": "b6ad226b-17ce-4cf5-93df-1aaaad5f3a48",
   "metadata": {},
   "outputs": [
    {
     "name": "stdout",
     "output_type": "stream",
     "text": [
      "True\n",
      "True\n",
      "True\n"
     ]
    }
   ],
   "source": [
    "print(False == (not True))\n",
    "print((True and False) == (True and False))\n",
    "print(not True == (\"A\" == \"B\"))"
   ]
  },
  {
   "cell_type": "code",
   "execution_count": null,
   "id": "7c0e143b-37ab-471f-8d3d-41dafd71835c",
   "metadata": {},
   "outputs": [],
   "source": []
  }
 ],
 "metadata": {
  "kernelspec": {
   "display_name": "Python [conda env:base] *",
   "language": "python",
   "name": "conda-base-py"
  },
  "language_info": {
   "codemirror_mode": {
    "name": "ipython",
    "version": 3
   },
   "file_extension": ".py",
   "mimetype": "text/x-python",
   "name": "python",
   "nbconvert_exporter": "python",
   "pygments_lexer": "ipython3",
   "version": "3.13.5"
  }
 },
 "nbformat": 4,
 "nbformat_minor": 5
}
