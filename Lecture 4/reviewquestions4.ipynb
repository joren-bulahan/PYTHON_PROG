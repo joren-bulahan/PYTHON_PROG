{
 "cells": [
  {
   "cell_type": "markdown",
   "id": "c5c5fa22-ab94-4e86-ac4a-3f5a1c6b50d4",
   "metadata": {},
   "source": [
    "# Review Questions 4"
   ]
  },
  {
   "cell_type": "code",
   "execution_count": 33,
   "id": "14d160a8-5281-4283-b160-109bf49a9df4",
   "metadata": {},
   "outputs": [
    {
     "name": "stdin",
     "output_type": "stream",
     "text": [
      "[Q] - quit\n",
      "Enter an input:  r\n",
      "[Q] - quit\n",
      "Enter an input:  r\n",
      "[Q] - quit\n",
      "Enter an input:  q\n"
     ]
    }
   ],
   "source": [
    "uInput = \"r\"\n",
    "while uInput.lower() != 'q':\n",
    "    uInput = input(\"[Q] - quit\\nEnter an input: \")"
   ]
  },
  {
   "cell_type": "code",
   "execution_count": 56,
   "id": "4331e56b-1786-4bcb-8c26-be52f147d217",
   "metadata": {},
   "outputs": [
    {
     "name": "stdout",
     "output_type": "stream",
     "text": [
      "1\n",
      "2\n",
      "4\n",
      "5\n",
      "7\n",
      "8\n",
      "10\n",
      "11\n",
      "13\n",
      "14\n",
      "16\n",
      "17\n",
      "19\n",
      "20\n",
      "22\n",
      "23\n",
      "25\n",
      "26\n",
      "28\n",
      "29\n",
      "31\n",
      "32\n",
      "34\n",
      "35\n",
      "37\n",
      "38\n",
      "40\n",
      "41\n",
      "43\n",
      "44\n",
      "46\n",
      "47\n",
      "49\n",
      "50\n"
     ]
    }
   ],
   "source": [
    "for s in range(1, 51):\n",
    "    if s % 3 == 0:\n",
    "        continue\n",
    "    print(s)\n",
    "\n",
    "\n",
    "\n",
    "\n"
   ]
  },
  {
   "cell_type": "code",
   "execution_count": null,
   "id": "9e5de14b-ce8f-42ac-9d96-f4b7fad8fc15",
   "metadata": {},
   "outputs": [],
   "source": []
  }
 ],
 "metadata": {
  "kernelspec": {
   "display_name": "Python [conda env:base] *",
   "language": "python",
   "name": "conda-base-py"
  },
  "language_info": {
   "codemirror_mode": {
    "name": "ipython",
    "version": 3
   },
   "file_extension": ".py",
   "mimetype": "text/x-python",
   "name": "python",
   "nbconvert_exporter": "python",
   "pygments_lexer": "ipython3",
   "version": "3.13.5"
  }
 },
 "nbformat": 4,
 "nbformat_minor": 5
}
