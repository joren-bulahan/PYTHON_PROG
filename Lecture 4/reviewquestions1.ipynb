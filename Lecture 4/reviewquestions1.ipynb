{
 "cells": [
  {
   "cell_type": "markdown",
   "id": "8e1ba04e-db7e-4b56-b2b4-df951f6a69c4",
   "metadata": {},
   "source": [
    "# Review Questions 1"
   ]
  },
  {
   "cell_type": "code",
   "execution_count": 1,
   "id": "8971ad7b-cfc9-4d73-bd3b-84dcabf8d6c1",
   "metadata": {},
   "outputs": [
    {
     "name": "stdout",
     "output_type": "stream",
     "text": [
      "True\n",
      "False\n",
      "True\n",
      "True\n",
      "False\n"
     ]
    }
   ],
   "source": [
    "print(1 <= 1)\n",
    "print(1 != 1)\n",
    "print(\"good\" != \"bad\")\n",
    "print(\"good\" != \"Good\")\n",
    "print(123 == \"123\")"
   ]
  },
  {
   "cell_type": "code",
   "execution_count": 2,
   "id": "856e35e0-80b5-4af7-ac23-48591d5a7979",
   "metadata": {},
   "outputs": [
    {
     "name": "stdout",
     "output_type": "stream",
     "text": [
      "True\n",
      "True\n",
      "True\n",
      "True\n"
     ]
    }
   ],
   "source": [
    "print(3 < 4)\n",
    "print(10 > 5)\n",
    "print(\"jack\" != \"jill\")\n",
    "print(42 != \"42\")"
   ]
  },
  {
   "cell_type": "code",
   "execution_count": null,
   "id": "e13d813e-1e3d-4318-adc8-fd5ee4ba3e2e",
   "metadata": {},
   "outputs": [],
   "source": []
  }
 ],
 "metadata": {
  "kernelspec": {
   "display_name": "Python [conda env:base] *",
   "language": "python",
   "name": "conda-base-py"
  },
  "language_info": {
   "codemirror_mode": {
    "name": "ipython",
    "version": 3
   },
   "file_extension": ".py",
   "mimetype": "text/x-python",
   "name": "python",
   "nbconvert_exporter": "python",
   "pygments_lexer": "ipython3",
   "version": "3.13.5"
  }
 },
 "nbformat": 4,
 "nbformat_minor": 5
}
