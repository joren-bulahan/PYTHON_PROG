{
 "cells": [
  {
   "cell_type": "markdown",
   "id": "b742dbc9-15aa-4858-a395-e7f8b8202588",
   "metadata": {},
   "source": [
    "# Review Questions 3"
   ]
  },
  {
   "cell_type": "code",
   "execution_count": 13,
   "id": "84096305-8ee9-493b-a67b-e5a01fe0f875",
   "metadata": {},
   "outputs": [
    {
     "name": "stdin",
     "output_type": "stream",
     "text": [
      "Enter a word:  sd\n"
     ]
    },
    {
     "name": "stdout",
     "output_type": "stream",
     "text": [
      "It's less than 5 characters\n"
     ]
    }
   ],
   "source": [
    "variableString = input(\"Enter a word: \")\n",
    "\n",
    "if len(variableString) < 5:\n",
    "    print(\"It's less than 5 characters\")\n",
    "elif len(variableString) > 5:\n",
    "    print(\"It's greater than 5 characters\")\n",
    "elif len(variableString) == 5:\n",
    "    print(\"It's equal to 5 characters\")\n",
    "else:\n",
    "    print(\"Error\")\n"
   ]
  },
  {
   "cell_type": "code",
   "execution_count": null,
   "id": "fed1a76e-094d-4793-8801-f6853e6d4d6e",
   "metadata": {},
   "outputs": [],
   "source": []
  }
 ],
 "metadata": {
  "kernelspec": {
   "display_name": "Python [conda env:base] *",
   "language": "python",
   "name": "conda-base-py"
  },
  "language_info": {
   "codemirror_mode": {
    "name": "ipython",
    "version": 3
   },
   "file_extension": ".py",
   "mimetype": "text/x-python",
   "name": "python",
   "nbconvert_exporter": "python",
   "pygments_lexer": "ipython3",
   "version": "3.13.5"
  }
 },
 "nbformat": 4,
 "nbformat_minor": 5
}
